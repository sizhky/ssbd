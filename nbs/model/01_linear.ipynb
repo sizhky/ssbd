{
 "cells": [
  {
   "cell_type": "markdown",
   "metadata": {},
   "source": [
    "# Train Embeddings Using a linear Probe\n",
    "\n",
    "> Module for training on a dataset of embeddings"
   ]
  },
  {
   "cell_type": "code",
   "execution_count": null,
   "metadata": {},
   "outputs": [],
   "source": [
    "%reload_ext nb_black\n",
    "%reload_ext autoreload\n",
    "%autoreload 2\n",
    "\n",
    "from nbdev.showdoc import *\n",
    "import sys\n",
    "\n",
    "__root = \"../../\"\n",
    "sys.path.append(__root)"
   ]
  },
  {
   "cell_type": "code",
   "execution_count": null,
   "metadata": {},
   "outputs": [],
   "source": [
    "import torch\n",
    "import torch.multiprocessing as mp\n",
    "\n",
    "mp.set_start_method(\"spawn\")"
   ]
  },
  {
   "cell_type": "code",
   "execution_count": null,
   "metadata": {},
   "outputs": [],
   "source": [
    "from clip_video_classifier.cli import cli\n",
    "from clip_video_classifier.data.dataset import ClipEmbeddingsDataset\n",
    "from torch_snippets import *"
   ]
  },
  {
   "cell_type": "code",
   "execution_count": null,
   "metadata": {},
   "outputs": [],
   "source": [
    "class LinearModel(nn.Module):\n",
    "    def __init__(self):\n",
    "        super().__init__()\n",
    "        self.model = nn.Sequential(\n",
    "            nn.Linear(512, 64), nn.ReLU(inplace=True), nn.Linear(64, 4)\n",
    "        )\n",
    "        self.loss_fn = nn.CrossEntropyLoss()\n",
    "        self.main_input_name = \"input\"\n",
    "\n",
    "    def forward(self, input, targets):\n",
    "        logits = self.model(input)\n",
    "        loss = self.loss_fn(logits, targets)\n",
    "        return {\"loss\": loss, \"logits\": logits}"
   ]
  },
  {
   "cell_type": "code",
   "execution_count": null,
   "metadata": {},
   "outputs": [],
   "source": [
    "from sklearn.model_selection import train_test_split\n",
    "import collections\n",
    "\n",
    "root = P(\"/mnt/347832F37832B388/ml-datasets/ssbd/\")\n",
    "annotations_path = root / \"annotations.csv\"\n",
    "embeddings_folder = root / \"ssbd-embeddings/10fps\"\n",
    "frames_folder = root / \"ssbd-frames/10fps\"\n",
    "annotations = pd.read_csv(annotations_path)\n",
    "annotations = annotations.query('label != \"others\"')\n",
    "trn_items, val_items = train_test_split(\n",
    "    annotations.video.unique(), test_size=0.15, random_state=11\n",
    ")\n",
    "trn_df, val_df = (\n",
    "    annotations.loc[\n",
    "        annotations.query(\"video in @trn_items\").groupby(\"video\")[\"start\"].idxmin()\n",
    "    ],\n",
    "    annotations.query(\"video in @val_items\"),\n",
    ")\n",
    "\n",
    "trn_ds = ClipEmbeddingsDataset(embeddings_folder, trn_df, frames_dir=frames_folder)\n",
    "val_ds = ClipEmbeddingsDataset(embeddings_folder, val_df, frames_dir=frames_folder)\n",
    "print(\n",
    "    \"train\",\n",
    "    collections.Counter([i[\"label\"] for i in track2(trn_ds)]),\n",
    "    \"validation\",\n",
    "    collections.Counter([i[\"label\"] for i in track2(val_ds)]),\n",
    ")\n",
    "\n",
    "\n",
    "def collate_fn(batch):\n",
    "    output = {}\n",
    "    output[\"input\"] = torch.stack([i[\"input\"] for i in batch]).to(torch.float)\n",
    "    output[\"targets\"] = torch.tensor([i[\"targets\"] for i in batch])\n",
    "    return output"
   ]
  },
  {
   "cell_type": "markdown",
   "metadata": {},
   "source": [
    "```python\n",
    "dl = DataLoader(trn_ds, shuffle=True, batch_size=3, collate_fn=collate_fn)\n",
    "model = LinearModel()\n",
    "i = next(iter(dl))\n",
    "model(**i)\n",
    "```"
   ]
  },
  {
   "cell_type": "code",
   "execution_count": null,
   "metadata": {},
   "outputs": [],
   "source": [
    "import pandas as pd\n",
    "import torch\n",
    "from sklearn.model_selection import train_test_split\n",
    "from transformers import Trainer, TrainingArguments\n",
    "from torch_snippets.charts import CM\n",
    "\n",
    "model = LinearModel().cuda()\n",
    "\n",
    "\n",
    "def compute_metrics(input):\n",
    "    predictions = input.predictions\n",
    "    targets = input.label_ids\n",
    "    pred = predictions.argmax(1)\n",
    "    pred = np.array([trn_ds.id2label[p] for p in pred])\n",
    "    targets = np.array([trn_ds.id2label[t] for t in targets])\n",
    "    show(CM(pred=pred, truth=targets))\n",
    "    return {\"accuracy\": (targets == pred).mean()}\n",
    "\n",
    "\n",
    "training_args = TrainingArguments(\n",
    "    output_dir=\"./linear_model_trained\",\n",
    "    evaluation_strategy=\"steps\",\n",
    "    per_device_train_batch_size=32,\n",
    "    per_device_eval_batch_size=64,\n",
    "    num_train_epochs=1500,\n",
    "    logging_steps=1500,\n",
    "    save_steps=200,\n",
    "    save_total_limit=2,\n",
    "    label_names=[\"targets\"],\n",
    "    include_inputs_for_metrics=True,\n",
    ")\n",
    "\n",
    "trainer = Trainer(\n",
    "    model=model,\n",
    "    args=training_args,\n",
    "    data_collator=collate_fn,\n",
    "    train_dataset=trn_ds,\n",
    "    eval_dataset=val_ds,\n",
    "    compute_metrics=compute_metrics,\n",
    ")\n",
    "\n",
    "trainer.train()"
   ]
  },
  {
   "cell_type": "code",
   "execution_count": null,
   "metadata": {},
   "outputs": [],
   "source": [
    "trainer.predict(trn_ds)"
   ]
  },
  {
   "cell_type": "code",
   "execution_count": null,
   "metadata": {},
   "outputs": [],
   "source": [
    "trainer.predict(val_ds)"
   ]
  },
  {
   "cell_type": "code",
   "execution_count": null,
   "metadata": {},
   "outputs": [],
   "source": [
    "import nbdev\n",
    "\n",
    "nbdev.nbdev_export()"
   ]
  }
 ],
 "metadata": {
  "kernelspec": {
   "display_name": "mcvp-book",
   "language": "python",
   "name": "mcvp-book"
  },
  "language_info": {
   "codemirror_mode": {
    "name": "ipython",
    "version": 3
   },
   "file_extension": ".py",
   "mimetype": "text/x-python",
   "name": "python",
   "nbconvert_exporter": "python",
   "pygments_lexer": "ipython3",
   "version": "3.8.18"
  }
 },
 "nbformat": 4,
 "nbformat_minor": 4
}
