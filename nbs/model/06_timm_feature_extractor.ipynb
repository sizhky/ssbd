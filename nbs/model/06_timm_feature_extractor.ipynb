{
 "cells": [
  {
   "cell_type": "markdown",
   "metadata": {},
   "source": [
    "# Infer using a Transformer\n",
    "\n",
    "> Module for training on a dataset of embeddings"
   ]
  },
  {
   "cell_type": "code",
   "execution_count": null,
   "metadata": {},
   "outputs": [],
   "source": [
    "# | default_exp models.timm_feature_extractor"
   ]
  },
  {
   "cell_type": "code",
   "execution_count": null,
   "metadata": {},
   "outputs": [],
   "source": [
    "%reload_ext nb_black\n",
    "%reload_ext autoreload\n",
    "%autoreload 2\n",
    "\n",
    "from nbdev.showdoc import *\n",
    "import sys\n",
    "\n",
    "__root = \"../../\"\n",
    "sys.path.append(__root)"
   ]
  },
  {
   "cell_type": "code",
   "execution_count": null,
   "metadata": {},
   "outputs": [],
   "source": [
    "# | export\n",
    "from torchvision.transforms import Compose, Lambda\n",
    "from torchvision.transforms._transforms_video import (\n",
    "    CenterCropVideo,\n",
    "    NormalizeVideo,\n",
    ")\n",
    "\n",
    "from pytorchvideo.data.encoded_video import EncodedVideo\n",
    "from pytorchvideo.transforms import (\n",
    "    ApplyTransformToKey,\n",
    "    ShortSideScale,\n",
    "    UniformTemporalSubsample,\n",
    "    UniformCropVideo,\n",
    ")\n",
    "import pandas as pd\n",
    "import timm\n",
    "from torch_snippets import *"
   ]
  },
  {
   "cell_type": "code",
   "execution_count": null,
   "metadata": {},
   "outputs": [],
   "source": [
    "# | export\n",
    "\n",
    "mean = [0.45, 0.45, 0.45]\n",
    "std = [0.225, 0.225, 0.225]\n",
    "mean_transform = ApplyTransformToKey(\n",
    "    key=\"video\",\n",
    "    transform=Compose(\n",
    "        [\n",
    "            NormalizeVideo(mean, std),\n",
    "        ]\n",
    "    ),\n",
    ")\n",
    "\n",
    "\n",
    "def extract_features_for_all_frames(\n",
    "    model, frames_folder, features_folder, device, batch_size=64\n",
    "):\n",
    "    feature_extractor = timm.create_model(model, pretrained=True, num_classes=0).to(\n",
    "        device\n",
    "    )\n",
    "    frames_files = sorted(Glob(frames_folder), key=lambda x: int(stem(stem(x))))\n",
    "    for frames_path in (tracker := track2(frames_files)):\n",
    "        item = stem(frames_path)\n",
    "        if item in [\"477.frames\", \"407.frames\"]:\n",
    "            continue\n",
    "        to = features_folder / f\"{item}.features.tensor\"\n",
    "        if exists(to):\n",
    "            continue\n",
    "        frames = loaddill(frames_path).permute(1, 0, 2, 3)\n",
    "        frames = {\"video\": frames}\n",
    "        frames = mean_transform(frames)[\"video\"].permute(1, 0, 2, 3)\n",
    "        tracker.send(f\"processing {item} @ {frames}\")\n",
    "        with torch.no_grad():\n",
    "            try:\n",
    "                frames = frames.split(batch_size)\n",
    "                preds = []\n",
    "                for frame_batch in frames:\n",
    "                    pred = feature_extractor(frame_batch.to(device)).cpu()\n",
    "                    preds.append(pred)\n",
    "                preds = torch.cat(preds)\n",
    "                dumpdill(preds, to, silent=True)\n",
    "            except Exception as e:\n",
    "                Warn(f\"{e} @ {item}\")"
   ]
  },
  {
   "cell_type": "markdown",
   "metadata": {},
   "source": [
    "Usage\n",
    "\n",
    "```python\n",
    "from torch_snippets import *\n",
    "\n",
    "root = P(\"/mnt/347832F37832B388/ml-datasets/ssbd\")\n",
    "annotations = pd.read_csv(f\"{root}/annotations.csv\")\n",
    "\n",
    "MODELS = [\"vgg19\", \"resnet18\", \"resnet50\", \"densenet121\"]\n",
    "for model in MODELS:\n",
    "    frames_folder = root / \"ssbd-frames/10fps\"\n",
    "    features_folder = root / f\"ssbd-frames-features/10fps/{model}/\"\n",
    "    makedir(features_folder)\n",
    "    extract_features_for_all_frames(model, frames_folder, features_folder, \"cuda\")\n",
    "```"
   ]
  }
 ],
 "metadata": {
  "kernelspec": {
   "display_name": "mcvp-book",
   "language": "python",
   "name": "mcvp-book"
  },
  "language_info": {
   "codemirror_mode": {
    "name": "ipython",
    "version": 3
   },
   "file_extension": ".py",
   "mimetype": "text/x-python",
   "name": "python",
   "nbconvert_exporter": "python",
   "pygments_lexer": "ipython3",
   "version": "3.8.18"
  }
 },
 "nbformat": 4,
 "nbformat_minor": 4
}
