{
 "cells": [
  {
   "cell_type": "markdown",
   "metadata": {},
   "source": [
    "# clip-video-classifier\n",
    "\n",
    "> assignment repo for video classification of ssbd dataset using CLIP"
   ]
  },
  {
   "cell_type": "markdown",
   "metadata": {},
   "source": [
    "## Install"
   ]
  },
  {
   "cell_type": "markdown",
   "metadata": {},
   "source": [
    "```sh\n",
    "pip install clip_video_classifier\n",
    "```"
   ]
  },
  {
   "cell_type": "markdown",
   "metadata": {},
   "source": [
    "## How to use"
   ]
  },
  {
   "cell_type": "markdown",
   "metadata": {},
   "source": [
    "First setup your annotations\n",
    "```bash\n",
    "$ clip-video-classifier setup-annotations /mnt/347832F37832B388/ml-datasets/ssbd/\n",
    "$ clip-video-classifier download-raw-videos /mnt/347832F37832B388/ml-datasets/ssbd/ssbd-release/ /mnt/347832F37832B388/ml-datasets/ssbd/ssbd-raw-videos\n",
    "$ clip-video-classifier setup-annotations /mnt/347832F37832B388/ml-datasets/ssbd/ssbd-release --fill-gaps --videos-folder /mnt/347832F37832B388/ml-datasets/ssbd/ssbd-raw-videos\n",
    "```\n",
    "\n",
    "Next extract frames for each video\n",
    "```bash\n",
    "# change the num-frames-per-sec in the below script if needed\n",
    "$ chmod +x scripts/extract_frames.sh\n",
    "$ ./extract_frames.sh\n",
    "```"
   ]
  },
  {
   "cell_type": "code",
   "execution_count": null,
   "metadata": {},
   "outputs": [],
   "source": [
    "clip-video-classifier extract-frames-for-annotations --row-index=4"
   ]
  }
 ],
 "metadata": {
  "kernelspec": {
   "display_name": "Python 3",
   "language": "python",
   "name": "python3"
  },
  "language_info": {
   "codemirror_mode": {
    "name": "ipython",
    "version": 3
   },
   "file_extension": ".py",
   "mimetype": "text/x-python",
   "name": "python",
   "nbconvert_exporter": "python",
   "pygments_lexer": "ipython3",
   "version": "3.9.13"
  }
 },
 "nbformat": 4,
 "nbformat_minor": 4
}
