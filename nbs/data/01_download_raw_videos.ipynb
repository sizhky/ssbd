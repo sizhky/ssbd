{
 "cells": [
  {
   "cell_type": "markdown",
   "metadata": {},
   "source": [
    "# Download Data\n",
    "\n",
    "> Module to download the dataset"
   ]
  },
  {
   "cell_type": "code",
   "execution_count": null,
   "metadata": {},
   "outputs": [],
   "source": [
    "# | default_exp preprocess.download_raw_videos"
   ]
  },
  {
   "cell_type": "code",
   "execution_count": null,
   "metadata": {},
   "outputs": [],
   "source": [
    "# | hide\n",
    "%reload_ext nb_black\n",
    "%reload_ext autoreload\n",
    "%autoreload 2\n",
    "%env CUDA_VISIBLE_DEVICES=\n",
    "\n",
    "from nbdev.showdoc import *\n",
    "import sys\n",
    "\n",
    "__root = \"../../\"\n",
    "sys.path.append(__root)"
   ]
  },
  {
   "cell_type": "code",
   "execution_count": null,
   "metadata": {},
   "outputs": [],
   "source": [
    "# | export\n",
    "from clip_video_classifier.cli import cli\n",
    "from torch_snippets import *\n",
    "import subprocess\n",
    "import yt_dlp"
   ]
  },
  {
   "cell_type": "code",
   "execution_count": null,
   "metadata": {},
   "outputs": [],
   "source": [
    "# | export\n",
    "\n",
    "\n",
    "def download_youtube_video(url, video_fpath):\n",
    "    command = [\"yt-dlp\", \"-f\", \"bestvideo[ext=mp4]\", \"-o\", video_fpath, url]\n",
    "    subprocess.run(command, check=True)\n",
    "\n",
    "\n",
    "def try_download_youtube_video(url, video_fpath):\n",
    "    try:\n",
    "        download_youtube_video(url, video_fpath)\n",
    "    except Exception as e:\n",
    "        Warn(f\"Error: {e} @ {video_fpath}\")\n",
    "\n",
    "\n",
    "@cli.command()\n",
    "def download_raw_videos(annotations_csv_path, folder):\n",
    "    annotations = pd.read_csv(annotations_csv_path)\n",
    "    df = annotations[[\"url\", \"video\"]].drop_duplicates().reset_index(drop=True)\n",
    "    for ix, row in track2(df.iterrows(), total=len(df)):\n",
    "        title = row.video\n",
    "        url = row.url.split(\"watch?v=\")[-1]\n",
    "        video_fpath = f\"{folder}/{title}.mp4\"\n",
    "        if not exists(video_fpath):\n",
    "            try_download_youtube_video(url, video_fpath)\n",
    "    else:\n",
    "        Info(f\"Skipping {video_fpath}\")"
   ]
  },
  {
   "cell_type": "code",
   "execution_count": null,
   "metadata": {},
   "outputs": [],
   "source": [
    "raw_videos_folder = P(\"/mnt/347832F37832B388/ml-datasets/ssbd/ssbd-raw-videos\")"
   ]
  },
  {
   "cell_type": "code",
   "execution_count": null,
   "metadata": {},
   "outputs": [],
   "source": [
    "# | hide\n",
    "import nbdev\n",
    "\n",
    "nbdev.nbdev_export()\n",
    "!black {__root}"
   ]
  }
 ],
 "metadata": {
  "kernelspec": {
   "display_name": "mcvp-book",
   "language": "python",
   "name": "mcvp-book"
  },
  "language_info": {
   "codemirror_mode": {
    "name": "ipython",
    "version": 3
   },
   "file_extension": ".py",
   "mimetype": "text/x-python",
   "name": "python",
   "nbconvert_exporter": "python",
   "pygments_lexer": "ipython3",
   "version": "3.8.18"
  }
 },
 "nbformat": 4,
 "nbformat_minor": 4
}
