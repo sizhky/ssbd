{
 "cells": [
  {
   "cell_type": "markdown",
   "metadata": {},
   "source": [
    "# Download Data\n",
    "\n",
    "> Module to download the dataset"
   ]
  },
  {
   "cell_type": "code",
   "execution_count": null,
   "metadata": {},
   "outputs": [],
   "source": [
    "# | default_exp data.dataset"
   ]
  },
  {
   "cell_type": "code",
   "execution_count": null,
   "metadata": {},
   "outputs": [],
   "source": [
    "# | hide\n",
    "%reload_ext nb_black\n",
    "%reload_ext autoreload\n",
    "%autoreload 2\n",
    "\n",
    "from nbdev.showdoc import *\n",
    "import sys\n",
    "\n",
    "__root = \"../../\"\n",
    "sys.path.append(__root)"
   ]
  },
  {
   "cell_type": "code",
   "execution_count": null,
   "metadata": {},
   "outputs": [],
   "source": [
    "# | export\n",
    "from torch_snippets import *\n",
    "from functools import lru_cache"
   ]
  },
  {
   "cell_type": "code",
   "execution_count": null,
   "metadata": {},
   "outputs": [],
   "source": [
    "# | export\n",
    "\n",
    "\n",
    "class ClipEmbeddingsDataset(Dataset):\n",
    "    labels = [\"ArmFlapping\", \"HeadBanging\", \"Spinning\", \"others\"]\n",
    "    label2id = {l: ix for ix, l in enumerate(labels)}\n",
    "    id2label = {ix: l for l, ix in label2id.items()}\n",
    "\n",
    "    def __init__(\n",
    "        self,\n",
    "        embeddings_dir: str,\n",
    "        annotations: str,\n",
    "        average_embeddings: bool = False,\n",
    "        frames_dir: str = None,\n",
    "        binary_mode: bool = False,\n",
    "    ):\n",
    "        self.average_embeddings = average_embeddings\n",
    "        self.embeddings_dir = P(embeddings_dir)\n",
    "        if isinstance(annotations, (str, P)):\n",
    "            self.annotations = pd.read_csv(annotations)\n",
    "        else:\n",
    "            self.annotations = annotations\n",
    "        available_embeddings = [\n",
    "            int(stem(f).split(\".\")[0]) for f in self.embeddings_dir.ls()\n",
    "        ]\n",
    "        available_annotations = self.annotations.index.tolist()\n",
    "\n",
    "        self.annotations = self.annotations.loc[\n",
    "            list(common(available_annotations, available_embeddings))\n",
    "        ]\n",
    "        self.frames_dir = frames_dir\n",
    "        self.binary_mode = binary_mode\n",
    "        Info(f\"created dataset of {len(self)} items\")\n",
    "\n",
    "    def __len__(self):\n",
    "        return len(self.annotations)\n",
    "\n",
    "    @lru_cache\n",
    "    def __getitem__(self, index):\n",
    "        row = self.annotations.iloc[index]\n",
    "        embedding = loaddill(\n",
    "            self.embeddings_dir / f\"{row.name}.frames.embeddings.tensor\"\n",
    "        ).cpu()\n",
    "        label = row[\"label\"]\n",
    "        if self.binary_mode:\n",
    "            label = int(label != \"others\")\n",
    "        else:\n",
    "            label = self.label2id[label]\n",
    "        if 0:\n",
    "            frames = loaddill(self.frames_dir / f\"{row.name}.frames.tensor\")\n",
    "        return {\n",
    "            \"embeddings\": embedding.cpu().detach(),\n",
    "            \"input\": embedding.mean(0).cpu().detach(),\n",
    "            \"targets\": label,\n",
    "            \"label\": label,\n",
    "        }"
   ]
  },
  {
   "cell_type": "markdown",
   "metadata": {},
   "source": [
    "Usage\n",
    "```python\n",
    "root = P(\"/mnt/347832F37832B388/ml-datasets/ssbd/\")\n",
    "annotations_path = root / \"annotations.csv\"\n",
    "embeddings_folder = root / \"ssbd-embeddings/5fps\"\n",
    "frames_folder = root / \"ssbd-frames/5fps\"\n",
    "\n",
    "ds = ClipEmbeddingsDataset(\n",
    "    embeddings_folder, annotations_path, frames_dir=frames_folder\n",
    ")\n",
    "```"
   ]
  },
  {
   "cell_type": "code",
   "execution_count": null,
   "metadata": {},
   "outputs": [],
   "source": [
    "import nbdev\n",
    "\n",
    "nbdev.nbdev_export()"
   ]
  }
 ],
 "metadata": {
  "kernelspec": {
   "display_name": "mcvp-book",
   "language": "python",
   "name": "mcvp-book"
  },
  "language_info": {
   "codemirror_mode": {
    "name": "ipython",
    "version": 3
   },
   "file_extension": ".py",
   "mimetype": "text/x-python",
   "name": "python",
   "nbconvert_exporter": "python",
   "pygments_lexer": "ipython3",
   "version": "3.8.18"
  }
 },
 "nbformat": 4,
 "nbformat_minor": 4
}
