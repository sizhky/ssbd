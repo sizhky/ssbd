{
 "cells": [
  {
   "cell_type": "markdown",
   "metadata": {},
   "source": [
    "# Download Data\n",
    "\n",
    "> Module to download the dataset"
   ]
  },
  {
   "cell_type": "code",
   "execution_count": null,
   "metadata": {},
   "outputs": [],
   "source": [
    "# | default_exp preprocess.video_to_frames"
   ]
  },
  {
   "cell_type": "code",
   "execution_count": null,
   "metadata": {},
   "outputs": [],
   "source": [
    "# | hide\n",
    "%reload_ext nb_black\n",
    "%reload_ext autoreload\n",
    "%autoreload 2\n",
    "%env CUDA_VISIBLE_DEVICES=\n",
    "\n",
    "from nbdev.showdoc import *\n",
    "import sys\n",
    "\n",
    "__root = \"../../\"\n",
    "sys.path.append(__root)"
   ]
  },
  {
   "cell_type": "code",
   "execution_count": null,
   "metadata": {},
   "outputs": [],
   "source": [
    "# | export\n",
    "from clip_video_classifier.cli import cli\n",
    "from torch_snippets import *\n",
    "from pytorchvideo.data.encoded_video import EncodedVideo\n",
    "from torchvision.transforms import Compose, Lambda\n",
    "from torchvision.transforms._transforms_video import (\n",
    "    CenterCropVideo,\n",
    "    NormalizeVideo,\n",
    ")\n",
    "from pytorchvideo.transforms import (\n",
    "    ApplyTransformToKey,\n",
    "    ShortSideScale,\n",
    "    UniformTemporalSubsample,\n",
    "    UniformCropVideo,\n",
    ")"
   ]
  },
  {
   "cell_type": "code",
   "execution_count": null,
   "metadata": {},
   "outputs": [],
   "source": [
    "# | export\n",
    "\n",
    "\n",
    "def get_transform(num_frames, side_size, crop_size):\n",
    "    return ApplyTransformToKey(\n",
    "        key=\"video\",\n",
    "        transform=Compose(\n",
    "            [\n",
    "                UniformTemporalSubsample(num_frames),\n",
    "                Lambda(lambda x: x / 255.0),\n",
    "                ShortSideScale(size=side_size),\n",
    "                CenterCropVideo(crop_size=(crop_size, crop_size)),\n",
    "            ]\n",
    "        ),\n",
    "    )\n",
    "\n",
    "\n",
    "def video_to_frames(\n",
    "    video_path,\n",
    "    frames_path,\n",
    "    start_sec: int,\n",
    "    clip_duration: float,\n",
    "    num_frames_per_sec: int = 10,\n",
    "    side_size: int = 256,\n",
    "    crop_size: int = 256,\n",
    "):\n",
    "    if exists(frames_path):\n",
    "        Info(f\"Skipping extraction for {frames_path}\")\n",
    "        return\n",
    "    makedir(parent(frames_path))\n",
    "    end_sec = start_sec + clip_duration\n",
    "    video = EncodedVideo.from_path(video_path)\n",
    "    video_data = video.get_clip(start_sec=start_sec, end_sec=end_sec)\n",
    "    num_frames = clip_duration * num_frames_per_sec\n",
    "    video_data = get_transform(num_frames, side_size, crop_size)(video_data)\n",
    "    tensor_data = video_data[\"video\"].permute(1, 0, 2, 3)\n",
    "    dumpdill(tensor_data, frames_path)\n",
    "\n",
    "\n",
    "@cli.command()\n",
    "def extract_frames_for_annotations(\n",
    "    annotations_path,\n",
    "    videos_folder,\n",
    "    frames_folder,\n",
    "    num_frames_per_sec: int = 5,\n",
    "    side_size: int = 256,\n",
    "    crop_size: int = 256,\n",
    "    exclude_others: bool = True,\n",
    "    row_index: int = None,\n",
    "):\n",
    "    videos_folder = P(videos_folder)\n",
    "    frames_folder = P(frames_folder)\n",
    "    annotations = pd.read_csv(annotations_path).rename({\"class\": \"activity\"}, axis=1)\n",
    "    if exclude_others:\n",
    "        annotations = annotations.query('activity != \"others\"')\n",
    "    for _, row in (\n",
    "        tracker := track2(\n",
    "            annotations.sort_values(\"video\").iterrows(), total=len(annotations)\n",
    "        )\n",
    "    ):\n",
    "        if row_index is not None and row.name != row_index:\n",
    "            continue\n",
    "        video = videos_folder / f\"{row.video}.mp4\"\n",
    "        frames = frames_folder / f\"{row.name}.frames.tensor\"\n",
    "        tracker.send(f\"Processing {frames}\")\n",
    "        video_to_frames(\n",
    "            video,\n",
    "            frames,\n",
    "            row.start,\n",
    "            row.clip_duration,\n",
    "            num_frames_per_sec=num_frames_per_sec,\n",
    "            side_size=side_size,\n",
    "            crop_size=crop_size,\n",
    "        )"
   ]
  },
  {
   "cell_type": "code",
   "execution_count": null,
   "metadata": {},
   "outputs": [],
   "source": [
    "root = P(\"/mnt/347832F37832B388/ml-datasets/ssbd/\")\n",
    "annotations_path = root / \"annotations.csv\"\n",
    "annotations = pd.read_csv(annotations_path).rename({\"class\": \"activity\"}, axis=1)"
   ]
  },
  {
   "cell_type": "markdown",
   "metadata": {},
   "source": [
    "Usage for a single video\n",
    "```python\n",
    "root = P(\"/mnt/347832F37832B388/ml-datasets/ssbd/\")\n",
    "videos_folder = root / \"ssbd-raw-videos\"\n",
    "frames_folder = root / \"ssbd-frames-5fps\"\n",
    "\n",
    "annotations = (\n",
    "    pd.read_csv(root / \"annotations.csv\")\n",
    "    .rename({\"class\": \"activity\"}, axis=1)\n",
    "    .query('activity != \"others\"')\n",
    ")\n",
    "# row = choose(annotations)\n",
    "show(row.to_frame().T)\n",
    "\n",
    "video = videos_folder / f\"{row.video}.mp4\"\n",
    "frames = frames_folder / f\"{row.name}.frames.tensor\"\n",
    "video_to_frames(video, frames, row.start, row.clip_duration, num_frames_per_sec=5)\n",
    "```\n",
    "---\n",
    "Usage for all rows in annotations\n",
    "\n",
    "```python\n",
    "root = P(\"/mnt/347832F37832B388/ml-datasets/ssbd/\")\n",
    "annotations_path = root / \"annotations.csv\"\n",
    "videos_folder = root / \"ssbd-raw-videos\"\n",
    "frames_folder = root / \"ssbd-frames-5fps\"\n",
    "num_frames_per_sec = 5\n",
    "exclude_others = True\n",
    "\n",
    "extract_frames_for_annotations(\n",
    "    annotations_path, videos_folder, frames_folder, num_frames_per_sec=5\n",
    ")\n",
    "```"
   ]
  },
  {
   "cell_type": "code",
   "execution_count": null,
   "metadata": {},
   "outputs": [],
   "source": [
    "import nbdev\n",
    "\n",
    "nbdev.nbdev_export()"
   ]
  }
 ],
 "metadata": {
  "kernelspec": {
   "display_name": "mcvp-book",
   "language": "python",
   "name": "mcvp-book"
  },
  "language_info": {
   "codemirror_mode": {
    "name": "ipython",
    "version": 3
   },
   "file_extension": ".py",
   "mimetype": "text/x-python",
   "name": "python",
   "nbconvert_exporter": "python",
   "pygments_lexer": "ipython3",
   "version": "3.8.18"
  }
 },
 "nbformat": 4,
 "nbformat_minor": 4
}
