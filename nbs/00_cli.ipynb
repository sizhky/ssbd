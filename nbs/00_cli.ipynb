{
 "cells": [
  {
   "cell_type": "code",
   "execution_count": null,
   "id": "dde62ab9",
   "metadata": {},
   "outputs": [],
   "source": [
    "# | default_exp cli"
   ]
  },
  {
   "cell_type": "code",
   "execution_count": null,
   "id": "b23dcc17",
   "metadata": {},
   "outputs": [],
   "source": [
    "%reload_ext nb_black\n",
    "%reload_ext autoreload\n",
    "%autoreload 2\n",
    "\n",
    "from torch_snippets import *\n",
    "\n",
    "__root = \"../\""
   ]
  },
  {
   "cell_type": "code",
   "execution_count": null,
   "id": "3ed4147b",
   "metadata": {},
   "outputs": [],
   "source": [
    "# | export\n",
    "from typer import Typer"
   ]
  },
  {
   "cell_type": "code",
   "execution_count": null,
   "id": "0e9b24dc",
   "metadata": {},
   "outputs": [],
   "source": [
    "# | export\n",
    "cli = Typer()"
   ]
  },
  {
   "cell_type": "code",
   "execution_count": null,
   "id": "fc464838",
   "metadata": {},
   "outputs": [],
   "source": [
    "# | hide\n",
    "import nbdev\n",
    "\n",
    "nbdev.nbdev_export()\n",
    "!black {__root}"
   ]
  }
 ],
 "metadata": {
  "kernelspec": {
   "display_name": "mcvp-book",
   "language": "python",
   "name": "mcvp-book"
  },
  "language_info": {
   "codemirror_mode": {
    "name": "ipython",
    "version": 3
   },
   "file_extension": ".py",
   "mimetype": "text/x-python",
   "name": "python",
   "nbconvert_exporter": "python",
   "pygments_lexer": "ipython3",
   "version": "3.8.18"
  }
 },
 "nbformat": 4,
 "nbformat_minor": 5
}
